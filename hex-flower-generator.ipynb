{
 "cells": [
  {
   "cell_type": "markdown",
   "id": "bac7d5cf",
   "metadata": {},
   "source": [
    "# The purpose of this project\n",
    "\n",
    "This project intends to create a usable hex flower generator interface inside of Jupyter Notebook using ipycanvas and ipyevents to create and control the actual drawing of the hex flower inside Jupyter. The data generated from walks will be displayed in the notebook as well as being written to disk in CSV format. ipycanvas and ipyevents can be installed via conda-forge."
   ]
  }
 ],
 "metadata": {
  "kernelspec": {
   "display_name": "Python 3",
   "language": "python",
   "name": "python3"
  },
  "language_info": {
   "codemirror_mode": {
    "name": "ipython",
    "version": 3
   },
   "file_extension": ".py",
   "mimetype": "text/x-python",
   "name": "python",
   "nbconvert_exporter": "python",
   "pygments_lexer": "ipython3",
   "version": "3.7.11"
  },
  "toc": {
   "base_numbering": 1,
   "nav_menu": {},
   "number_sections": true,
   "sideBar": true,
   "skip_h1_title": false,
   "title_cell": "Table of Contents",
   "title_sidebar": "Contents",
   "toc_cell": false,
   "toc_position": {},
   "toc_section_display": true,
   "toc_window_display": false
  }
 },
 "nbformat": 4,
 "nbformat_minor": 5
}
