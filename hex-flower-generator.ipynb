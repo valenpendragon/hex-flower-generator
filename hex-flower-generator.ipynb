{
 "cells": [
  {
   "cell_type": "markdown",
   "id": "7ea6b0b3",
   "metadata": {},
   "source": [
    "# The purpose of this project\n",
    "\n",
    "This project intends to create a usable hex flower generator interface inside of Jupyter Notebook using ipycanvas and ipyevents to create and control the actual drawing of the hex flower inside Jupyter. ipycanvas and ipyevents can be installed via conda-forge.\n",
    "\n",
    "The flower input data file will be chosen by the user when prompted for it. Use xml to store the flower data.\n",
    "\n",
    "The data will generated and stored in a pandas dataframe. The user can determine if it will be written to an Excel workbook or to a CSV file.\n",
    "\n",
    "We also rely on xmltodict, which is part of the anaconda package."
   ]
  },
  {
   "cell_type": "markdown",
   "id": "900a8c93",
   "metadata": {},
   "source": [
    "# Importing the xml data into a dictionary\n",
    "\n",
    "The first step is to get open the file the user wants to use for the walk and to convert the content into a python dictionary."
   ]
  },
  {
   "cell_type": "code",
   "execution_count": null,
   "id": "ee08b135",
   "metadata": {},
   "outputs": [],
   "source": [
    "import ipycanvas\n",
    "import ipyevents\n",
    "from collections import OrderedDict\n",
    "from xmltodict import parse, unparse\n",
    "\n",
    "\n",
    "class HexFlowerCanvas(ipycanvas.Canvas, OrderedDict):\n",
    "    \"\"\"\n",
    "    Methods:\n",
    "        proximity\n",
    "        drawHex\n",
    "        drawHexFlower\n",
    "        buttons\n",
    "    \n",
    "    \"\"\"\n",
    "    pass\n",
    "\n",
    "class ControlCanvas(ipycanvas.Canvas):\n",
    "    \"\"\"\n",
    "    Methods:\n",
    "        find_file\n",
    "        walks?\n",
    "    \"\"\"\n",
    "    pass\n",
    "\n",
    "class WalkDisplay(ipycanvas.Canvas):\n",
    "    \"\"\"\n",
    "    Methos:\n",
    "        start_walk\n",
    "        record_steps\n",
    "        save_walk\n",
    "    \"\"\"\n",
    "\n",
    "\n",
    "with open(\"./data/active_volcano_2d6.xml\") as fd:\n",
    "    #with open(\"./JNV/test-hf.xml\") as fd:\n",
    "    xmldata = fd.read()\n",
    "\n",
    "d = parse(xmldata)"
   ]
  },
  {
   "cell_type": "code",
   "execution_count": null,
   "id": "05f976f2",
   "metadata": {},
   "outputs": [],
   "source": [
    "from lib.hex_flower_classes import HexFlower, BasicWalk\n",
    "from lib.hex_flower_classes import SelfTerminatingWalk as STW\n",
    "hf = HexFlower(d)\n",
    "walk = STW(hf=hf, start_zone='start')\n",
    "\n",
    "#123456789b123456789c123456789d123456789e123456789f123456789g123456789h123456789"
   ]
  }
 ],
 "metadata": {
  "kernelspec": {
   "display_name": "Python 3",
   "language": "python",
   "name": "python3"
  },
  "language_info": {
   "codemirror_mode": {
    "name": "ipython",
    "version": 3
   },
   "file_extension": ".py",
   "mimetype": "text/x-python",
   "name": "python",
   "nbconvert_exporter": "python",
   "pygments_lexer": "ipython3",
   "version": "3.7.11"
  },
  "toc": {
   "base_numbering": 1,
   "nav_menu": {},
   "number_sections": true,
   "sideBar": true,
   "skip_h1_title": false,
   "title_cell": "Table of Contents",
   "title_sidebar": "Contents",
   "toc_cell": false,
   "toc_position": {},
   "toc_section_display": true,
   "toc_window_display": false
  }
 },
 "nbformat": 4,
 "nbformat_minor": 5
}
